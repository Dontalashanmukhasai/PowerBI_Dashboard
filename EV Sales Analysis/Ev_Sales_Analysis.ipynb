{
 "cells": [
  {
   "cell_type": "code",
   "execution_count": 2,
   "id": "d3efa2aa-8d1e-47aa-bb4c-0d5b12eedc4a",
   "metadata": {},
   "outputs": [],
   "source": [
    "import numpy as np\n",
    "import pandas as pd"
   ]
  },
  {
   "cell_type": "code",
   "execution_count": 6,
   "id": "cf1d0748-8403-4cd1-b9cd-332d5f6e8165",
   "metadata": {},
   "outputs": [],
   "source": [
    "df = pd.read_csv('Ev_sales.csv')"
   ]
  },
  {
   "cell_type": "code",
   "execution_count": 7,
   "id": "5e81a8f7-01de-452e-abcb-1a967305e4f5",
   "metadata": {},
   "outputs": [
    {
     "data": {
      "text/html": [
       "<div>\n",
       "<style scoped>\n",
       "    .dataframe tbody tr th:only-of-type {\n",
       "        vertical-align: middle;\n",
       "    }\n",
       "\n",
       "    .dataframe tbody tr th {\n",
       "        vertical-align: top;\n",
       "    }\n",
       "\n",
       "    .dataframe thead th {\n",
       "        text-align: right;\n",
       "    }\n",
       "</style>\n",
       "<table border=\"1\" class=\"dataframe\">\n",
       "  <thead>\n",
       "    <tr style=\"text-align: right;\">\n",
       "      <th></th>\n",
       "      <th>Year</th>\n",
       "      <th>Month_Name</th>\n",
       "      <th>Date</th>\n",
       "      <th>State</th>\n",
       "      <th>Vehicle_Category</th>\n",
       "      <th>EV_Sales_Quantity</th>\n",
       "    </tr>\n",
       "  </thead>\n",
       "  <tbody>\n",
       "    <tr>\n",
       "      <th>0</th>\n",
       "      <td>2014</td>\n",
       "      <td>jan</td>\n",
       "      <td>01-01-2014</td>\n",
       "      <td>Andhra Pradesh</td>\n",
       "      <td>Others</td>\n",
       "      <td>0</td>\n",
       "    </tr>\n",
       "    <tr>\n",
       "      <th>1</th>\n",
       "      <td>2014</td>\n",
       "      <td>jan</td>\n",
       "      <td>01-01-2014</td>\n",
       "      <td>Andhra Pradesh</td>\n",
       "      <td>Others</td>\n",
       "      <td>0</td>\n",
       "    </tr>\n",
       "    <tr>\n",
       "      <th>2</th>\n",
       "      <td>2014</td>\n",
       "      <td>jan</td>\n",
       "      <td>01-01-2014</td>\n",
       "      <td>Andhra Pradesh</td>\n",
       "      <td>Others</td>\n",
       "      <td>0</td>\n",
       "    </tr>\n",
       "    <tr>\n",
       "      <th>3</th>\n",
       "      <td>2014</td>\n",
       "      <td>jan</td>\n",
       "      <td>01-01-2014</td>\n",
       "      <td>Andhra Pradesh</td>\n",
       "      <td>Others</td>\n",
       "      <td>0</td>\n",
       "    </tr>\n",
       "    <tr>\n",
       "      <th>4</th>\n",
       "      <td>2014</td>\n",
       "      <td>jan</td>\n",
       "      <td>01-01-2014</td>\n",
       "      <td>Andhra Pradesh</td>\n",
       "      <td>Bus</td>\n",
       "      <td>0</td>\n",
       "    </tr>\n",
       "    <tr>\n",
       "      <th>...</th>\n",
       "      <td>...</td>\n",
       "      <td>...</td>\n",
       "      <td>...</td>\n",
       "      <td>...</td>\n",
       "      <td>...</td>\n",
       "      <td>...</td>\n",
       "    </tr>\n",
       "    <tr>\n",
       "      <th>96840</th>\n",
       "      <td>2023</td>\n",
       "      <td>dec</td>\n",
       "      <td>12-01-2023</td>\n",
       "      <td>Andaman &amp; Nicobar Island</td>\n",
       "      <td>4-Wheelers</td>\n",
       "      <td>1</td>\n",
       "    </tr>\n",
       "    <tr>\n",
       "      <th>96841</th>\n",
       "      <td>2023</td>\n",
       "      <td>dec</td>\n",
       "      <td>12-01-2023</td>\n",
       "      <td>Andaman &amp; Nicobar Island</td>\n",
       "      <td>2-Wheelers</td>\n",
       "      <td>5</td>\n",
       "    </tr>\n",
       "    <tr>\n",
       "      <th>96842</th>\n",
       "      <td>2023</td>\n",
       "      <td>dec</td>\n",
       "      <td>12-01-2023</td>\n",
       "      <td>Andaman &amp; Nicobar Island</td>\n",
       "      <td>Bus</td>\n",
       "      <td>0</td>\n",
       "    </tr>\n",
       "    <tr>\n",
       "      <th>96843</th>\n",
       "      <td>2023</td>\n",
       "      <td>dec</td>\n",
       "      <td>12-01-2023</td>\n",
       "      <td>Andaman &amp; Nicobar Island</td>\n",
       "      <td>3-Wheelers</td>\n",
       "      <td>0</td>\n",
       "    </tr>\n",
       "    <tr>\n",
       "      <th>96844</th>\n",
       "      <td>2023</td>\n",
       "      <td>dec</td>\n",
       "      <td>12-01-2023</td>\n",
       "      <td>Andaman &amp; Nicobar Island</td>\n",
       "      <td>3-Wheelers</td>\n",
       "      <td>0</td>\n",
       "    </tr>\n",
       "  </tbody>\n",
       "</table>\n",
       "<p>96845 rows × 6 columns</p>\n",
       "</div>"
      ],
      "text/plain": [
       "       Year Month_Name        Date                     State Vehicle_Category  \\\n",
       "0      2014        jan  01-01-2014            Andhra Pradesh           Others   \n",
       "1      2014        jan  01-01-2014            Andhra Pradesh           Others   \n",
       "2      2014        jan  01-01-2014            Andhra Pradesh           Others   \n",
       "3      2014        jan  01-01-2014            Andhra Pradesh           Others   \n",
       "4      2014        jan  01-01-2014            Andhra Pradesh              Bus   \n",
       "...     ...        ...         ...                       ...              ...   \n",
       "96840  2023        dec  12-01-2023  Andaman & Nicobar Island       4-Wheelers   \n",
       "96841  2023        dec  12-01-2023  Andaman & Nicobar Island       2-Wheelers   \n",
       "96842  2023        dec  12-01-2023  Andaman & Nicobar Island              Bus   \n",
       "96843  2023        dec  12-01-2023  Andaman & Nicobar Island       3-Wheelers   \n",
       "96844  2023        dec  12-01-2023  Andaman & Nicobar Island       3-Wheelers   \n",
       "\n",
       "       EV_Sales_Quantity  \n",
       "0                      0  \n",
       "1                      0  \n",
       "2                      0  \n",
       "3                      0  \n",
       "4                      0  \n",
       "...                  ...  \n",
       "96840                  1  \n",
       "96841                  5  \n",
       "96842                  0  \n",
       "96843                  0  \n",
       "96844                  0  \n",
       "\n",
       "[96845 rows x 6 columns]"
      ]
     },
     "execution_count": 7,
     "metadata": {},
     "output_type": "execute_result"
    }
   ],
   "source": [
    "df"
   ]
  },
  {
   "cell_type": "code",
   "execution_count": 9,
   "id": "8eeff18c-3b98-4102-b9c1-36b6d99f504c",
   "metadata": {},
   "outputs": [
    {
     "data": {
      "text/plain": [
       "(96845, 6)"
      ]
     },
     "execution_count": 9,
     "metadata": {},
     "output_type": "execute_result"
    }
   ],
   "source": [
    "df.shape"
   ]
  },
  {
   "cell_type": "code",
   "execution_count": 10,
   "id": "5187cd3e-0d96-4b42-87fd-05d4ed3b0a25",
   "metadata": {},
   "outputs": [
    {
     "data": {
      "text/plain": [
       "<bound method DataFrame.info of        Year Month_Name        Date                     State Vehicle_Category  \\\n",
       "0      2014        jan  01-01-2014            Andhra Pradesh           Others   \n",
       "1      2014        jan  01-01-2014            Andhra Pradesh           Others   \n",
       "2      2014        jan  01-01-2014            Andhra Pradesh           Others   \n",
       "3      2014        jan  01-01-2014            Andhra Pradesh           Others   \n",
       "4      2014        jan  01-01-2014            Andhra Pradesh              Bus   \n",
       "...     ...        ...         ...                       ...              ...   \n",
       "96840  2023        dec  12-01-2023  Andaman & Nicobar Island       4-Wheelers   \n",
       "96841  2023        dec  12-01-2023  Andaman & Nicobar Island       2-Wheelers   \n",
       "96842  2023        dec  12-01-2023  Andaman & Nicobar Island              Bus   \n",
       "96843  2023        dec  12-01-2023  Andaman & Nicobar Island       3-Wheelers   \n",
       "96844  2023        dec  12-01-2023  Andaman & Nicobar Island       3-Wheelers   \n",
       "\n",
       "       EV_Sales_Quantity  \n",
       "0                      0  \n",
       "1                      0  \n",
       "2                      0  \n",
       "3                      0  \n",
       "4                      0  \n",
       "...                  ...  \n",
       "96840                  1  \n",
       "96841                  5  \n",
       "96842                  0  \n",
       "96843                  0  \n",
       "96844                  0  \n",
       "\n",
       "[96845 rows x 6 columns]>"
      ]
     },
     "execution_count": 10,
     "metadata": {},
     "output_type": "execute_result"
    }
   ],
   "source": [
    "df.info"
   ]
  },
  {
   "cell_type": "code",
   "execution_count": 11,
   "id": "1b2ddefc-a154-477d-a8cf-b6b07e209695",
   "metadata": {},
   "outputs": [
    {
     "data": {
      "text/plain": [
       "['Year',\n",
       " 'Month_Name',\n",
       " 'Date',\n",
       " 'State',\n",
       " 'Vehicle_Category',\n",
       " 'EV_Sales_Quantity']"
      ]
     },
     "execution_count": 11,
     "metadata": {},
     "output_type": "execute_result"
    }
   ],
   "source": [
    "df.columns.tolist()"
   ]
  },
  {
   "cell_type": "code",
   "execution_count": 13,
   "id": "1be872d1-d5f5-46c5-b4ae-2623bf054eff",
   "metadata": {},
   "outputs": [
    {
     "data": {
      "text/plain": [
       "Year                  int64\n",
       "Month_Name           object\n",
       "Date                 object\n",
       "State                object\n",
       "Vehicle_Category     object\n",
       "EV_Sales_Quantity     int64\n",
       "dtype: object"
      ]
     },
     "execution_count": 13,
     "metadata": {},
     "output_type": "execute_result"
    }
   ],
   "source": [
    "df.dtypes"
   ]
  },
  {
   "cell_type": "code",
   "execution_count": 14,
   "id": "7e441a2e-3406-489d-8b9e-05836051a839",
   "metadata": {},
   "outputs": [
    {
     "data": {
      "text/html": [
       "<div>\n",
       "<style scoped>\n",
       "    .dataframe tbody tr th:only-of-type {\n",
       "        vertical-align: middle;\n",
       "    }\n",
       "\n",
       "    .dataframe tbody tr th {\n",
       "        vertical-align: top;\n",
       "    }\n",
       "\n",
       "    .dataframe thead th {\n",
       "        text-align: right;\n",
       "    }\n",
       "</style>\n",
       "<table border=\"1\" class=\"dataframe\">\n",
       "  <thead>\n",
       "    <tr style=\"text-align: right;\">\n",
       "      <th></th>\n",
       "      <th>Year</th>\n",
       "      <th>Month_Name</th>\n",
       "      <th>Date</th>\n",
       "      <th>State</th>\n",
       "      <th>Vehicle_Category</th>\n",
       "      <th>EV_Sales_Quantity</th>\n",
       "    </tr>\n",
       "  </thead>\n",
       "  <tbody>\n",
       "    <tr>\n",
       "      <th>0</th>\n",
       "      <td>2014</td>\n",
       "      <td>jan</td>\n",
       "      <td>01-01-2014</td>\n",
       "      <td>Andhra Pradesh</td>\n",
       "      <td>Others</td>\n",
       "      <td>0</td>\n",
       "    </tr>\n",
       "    <tr>\n",
       "      <th>1</th>\n",
       "      <td>2014</td>\n",
       "      <td>jan</td>\n",
       "      <td>01-01-2014</td>\n",
       "      <td>Andhra Pradesh</td>\n",
       "      <td>Others</td>\n",
       "      <td>0</td>\n",
       "    </tr>\n",
       "    <tr>\n",
       "      <th>2</th>\n",
       "      <td>2014</td>\n",
       "      <td>jan</td>\n",
       "      <td>01-01-2014</td>\n",
       "      <td>Andhra Pradesh</td>\n",
       "      <td>Others</td>\n",
       "      <td>0</td>\n",
       "    </tr>\n",
       "    <tr>\n",
       "      <th>3</th>\n",
       "      <td>2014</td>\n",
       "      <td>jan</td>\n",
       "      <td>01-01-2014</td>\n",
       "      <td>Andhra Pradesh</td>\n",
       "      <td>Others</td>\n",
       "      <td>0</td>\n",
       "    </tr>\n",
       "    <tr>\n",
       "      <th>4</th>\n",
       "      <td>2014</td>\n",
       "      <td>jan</td>\n",
       "      <td>01-01-2014</td>\n",
       "      <td>Andhra Pradesh</td>\n",
       "      <td>Bus</td>\n",
       "      <td>0</td>\n",
       "    </tr>\n",
       "  </tbody>\n",
       "</table>\n",
       "</div>"
      ],
      "text/plain": [
       "   Year Month_Name        Date           State Vehicle_Category  \\\n",
       "0  2014        jan  01-01-2014  Andhra Pradesh           Others   \n",
       "1  2014        jan  01-01-2014  Andhra Pradesh           Others   \n",
       "2  2014        jan  01-01-2014  Andhra Pradesh           Others   \n",
       "3  2014        jan  01-01-2014  Andhra Pradesh           Others   \n",
       "4  2014        jan  01-01-2014  Andhra Pradesh              Bus   \n",
       "\n",
       "   EV_Sales_Quantity  \n",
       "0                  0  \n",
       "1                  0  \n",
       "2                  0  \n",
       "3                  0  \n",
       "4                  0  "
      ]
     },
     "execution_count": 14,
     "metadata": {},
     "output_type": "execute_result"
    }
   ],
   "source": [
    "df.head()"
   ]
  },
  {
   "cell_type": "code",
   "execution_count": 15,
   "id": "697fb1f3-f23f-4cc3-af18-e41ebf656996",
   "metadata": {},
   "outputs": [
    {
     "data": {
      "text/plain": [
       "Year                 0\n",
       "Month_Name           0\n",
       "Date                 0\n",
       "State                0\n",
       "Vehicle_Category     0\n",
       "EV_Sales_Quantity    0\n",
       "dtype: int64"
      ]
     },
     "execution_count": 15,
     "metadata": {},
     "output_type": "execute_result"
    }
   ],
   "source": [
    "df.isna().sum()"
   ]
  },
  {
   "cell_type": "code",
   "execution_count": 17,
   "id": "38778bb7-682f-4f5f-a93a-9f3931723bc6",
   "metadata": {},
   "outputs": [
    {
     "data": {
      "text/plain": [
       "64581"
      ]
     },
     "execution_count": 17,
     "metadata": {},
     "output_type": "execute_result"
    }
   ],
   "source": [
    "df.duplicated().sum()"
   ]
  },
  {
   "cell_type": "code",
   "execution_count": 20,
   "id": "6428f21b-6dba-4cbb-8aa9-0654fffd75c7",
   "metadata": {},
   "outputs": [],
   "source": [
    "df['Date_parsed'] = pd.to_datetime(df['Date'], errors = 'coerce')"
   ]
  },
  {
   "cell_type": "code",
   "execution_count": 21,
   "id": "6aeb3a02-b0d0-46eb-a538-dd4568984f86",
   "metadata": {},
   "outputs": [
    {
     "name": "stdout",
     "output_type": "stream",
     "text": [
      "NaT count (failed parses): 0\n",
      "         Date Date_parsed\n",
      "0  01-01-2014  2014-01-01\n",
      "1  01-01-2014  2014-01-01\n",
      "2  01-01-2014  2014-01-01\n",
      "3  01-01-2014  2014-01-01\n",
      "4  01-01-2014  2014-01-01\n",
      "5  01-01-2014  2014-01-01\n",
      "6  01-01-2014  2014-01-01\n",
      "7  01-01-2014  2014-01-01\n",
      "8  01-01-2014  2014-01-01\n",
      "9  01-01-2014  2014-01-01\n"
     ]
    }
   ],
   "source": [
    "print(\"NaT count (failed parses):\", df['Date_parsed'].isna().sum())\n",
    "print(df[['Date', 'Date_parsed']].head(10))"
   ]
  },
  {
   "cell_type": "code",
   "execution_count": 22,
   "id": "d3f9e879-91f9-40d1-ab2c-9ee1ea13135a",
   "metadata": {},
   "outputs": [],
   "source": [
    "Before_remove = len(df)\n",
    "df = df.drop_duplicates().copy()\n",
    "after_remove = len(df)"
   ]
  },
  {
   "cell_type": "code",
   "execution_count": 27,
   "id": "21856771-c203-4664-beae-25ca64e62252",
   "metadata": {},
   "outputs": [
    {
     "name": "stdout",
     "output_type": "stream",
     "text": [
      "Before removing duplicates: 96845\n",
      "Remaining rows after duplicates removed: 32264\n"
     ]
    }
   ],
   "source": [
    "print(f\"Before removing duplicates: {Before_remove}\")\n",
    "print(f\"Remaining rows after duplicates removed: {after_remove}\")"
   ]
  },
  {
   "cell_type": "code",
   "execution_count": 28,
   "id": "5f8d461d-938b-49c4-802e-6ba383c77037",
   "metadata": {},
   "outputs": [
    {
     "name": "stdout",
     "output_type": "stream",
     "text": [
      "             State Vehicle_Category Month_Name\n",
      "0   Andhra Pradesh           Others        Jan\n",
      "4   Andhra Pradesh              Bus        Jan\n",
      "13  Andhra Pradesh       2-Wheelers        Jan\n",
      "14  Andhra Pradesh       4-Wheelers        Jan\n",
      "19  Andhra Pradesh       3-Wheelers        Jan\n"
     ]
    }
   ],
   "source": [
    "for col in ['State','Vehicle_Category','Month_Name']:\n",
    "    df[col] = df[col].astype(str).str.strip().str.title()\n",
    "\n",
    "print(df[['State','Vehicle_Category','Month_Name']].head())\n"
   ]
  },
  {
   "cell_type": "code",
   "execution_count": 29,
   "id": "d2e5cb11-79f9-429b-8e54-188261efa5b0",
   "metadata": {},
   "outputs": [
    {
     "name": "stdout",
     "output_type": "stream",
     "text": [
      "Year                 0\n",
      "Month_Name           0\n",
      "Date                 0\n",
      "State                0\n",
      "Vehicle_Category     0\n",
      "EV_Sales_Quantity    0\n",
      "Date_parsed          0\n",
      "dtype: int64\n"
     ]
    }
   ],
   "source": [
    "print(df.isnull().sum())"
   ]
  },
  {
   "cell_type": "code",
   "execution_count": 30,
   "id": "e6d5b392-46d8-4c5f-9ae6-0fdf9c6add71",
   "metadata": {},
   "outputs": [
    {
     "data": {
      "text/html": [
       "<div>\n",
       "<style scoped>\n",
       "    .dataframe tbody tr th:only-of-type {\n",
       "        vertical-align: middle;\n",
       "    }\n",
       "\n",
       "    .dataframe tbody tr th {\n",
       "        vertical-align: top;\n",
       "    }\n",
       "\n",
       "    .dataframe thead th {\n",
       "        text-align: right;\n",
       "    }\n",
       "</style>\n",
       "<table border=\"1\" class=\"dataframe\">\n",
       "  <thead>\n",
       "    <tr style=\"text-align: right;\">\n",
       "      <th></th>\n",
       "      <th>Year</th>\n",
       "      <th>Month_Name</th>\n",
       "      <th>Date</th>\n",
       "      <th>State</th>\n",
       "      <th>Vehicle_Category</th>\n",
       "      <th>EV_Sales_Quantity</th>\n",
       "      <th>Date_parsed</th>\n",
       "    </tr>\n",
       "  </thead>\n",
       "  <tbody>\n",
       "    <tr>\n",
       "      <th>0</th>\n",
       "      <td>2014</td>\n",
       "      <td>Jan</td>\n",
       "      <td>01-01-2014</td>\n",
       "      <td>Andhra Pradesh</td>\n",
       "      <td>Others</td>\n",
       "      <td>0</td>\n",
       "      <td>2014-01-01</td>\n",
       "    </tr>\n",
       "    <tr>\n",
       "      <th>4</th>\n",
       "      <td>2014</td>\n",
       "      <td>Jan</td>\n",
       "      <td>01-01-2014</td>\n",
       "      <td>Andhra Pradesh</td>\n",
       "      <td>Bus</td>\n",
       "      <td>0</td>\n",
       "      <td>2014-01-01</td>\n",
       "    </tr>\n",
       "    <tr>\n",
       "      <th>13</th>\n",
       "      <td>2014</td>\n",
       "      <td>Jan</td>\n",
       "      <td>01-01-2014</td>\n",
       "      <td>Andhra Pradesh</td>\n",
       "      <td>2-Wheelers</td>\n",
       "      <td>1</td>\n",
       "      <td>2014-01-01</td>\n",
       "    </tr>\n",
       "    <tr>\n",
       "      <th>14</th>\n",
       "      <td>2014</td>\n",
       "      <td>Jan</td>\n",
       "      <td>01-01-2014</td>\n",
       "      <td>Andhra Pradesh</td>\n",
       "      <td>4-Wheelers</td>\n",
       "      <td>0</td>\n",
       "      <td>2014-01-01</td>\n",
       "    </tr>\n",
       "    <tr>\n",
       "      <th>19</th>\n",
       "      <td>2014</td>\n",
       "      <td>Jan</td>\n",
       "      <td>01-01-2014</td>\n",
       "      <td>Andhra Pradesh</td>\n",
       "      <td>3-Wheelers</td>\n",
       "      <td>0</td>\n",
       "      <td>2014-01-01</td>\n",
       "    </tr>\n",
       "  </tbody>\n",
       "</table>\n",
       "</div>"
      ],
      "text/plain": [
       "    Year Month_Name        Date           State Vehicle_Category  \\\n",
       "0   2014        Jan  01-01-2014  Andhra Pradesh           Others   \n",
       "4   2014        Jan  01-01-2014  Andhra Pradesh              Bus   \n",
       "13  2014        Jan  01-01-2014  Andhra Pradesh       2-Wheelers   \n",
       "14  2014        Jan  01-01-2014  Andhra Pradesh       4-Wheelers   \n",
       "19  2014        Jan  01-01-2014  Andhra Pradesh       3-Wheelers   \n",
       "\n",
       "    EV_Sales_Quantity Date_parsed  \n",
       "0                   0  2014-01-01  \n",
       "4                   0  2014-01-01  \n",
       "13                  1  2014-01-01  \n",
       "14                  0  2014-01-01  \n",
       "19                  0  2014-01-01  "
      ]
     },
     "execution_count": 30,
     "metadata": {},
     "output_type": "execute_result"
    }
   ],
   "source": [
    "df.head()"
   ]
  },
  {
   "cell_type": "code",
   "execution_count": 34,
   "id": "8c504141-ad1b-4abb-9b6f-e22f2ece90ba",
   "metadata": {},
   "outputs": [],
   "source": [
    "df = df.drop(columns=['Date'])"
   ]
  },
  {
   "cell_type": "code",
   "execution_count": 35,
   "id": "0989ec8b-0a55-48d7-a2f1-1b2bc35a7f8d",
   "metadata": {},
   "outputs": [
    {
     "data": {
      "text/html": [
       "<div>\n",
       "<style scoped>\n",
       "    .dataframe tbody tr th:only-of-type {\n",
       "        vertical-align: middle;\n",
       "    }\n",
       "\n",
       "    .dataframe tbody tr th {\n",
       "        vertical-align: top;\n",
       "    }\n",
       "\n",
       "    .dataframe thead th {\n",
       "        text-align: right;\n",
       "    }\n",
       "</style>\n",
       "<table border=\"1\" class=\"dataframe\">\n",
       "  <thead>\n",
       "    <tr style=\"text-align: right;\">\n",
       "      <th></th>\n",
       "      <th>Year</th>\n",
       "      <th>Month_Name</th>\n",
       "      <th>State</th>\n",
       "      <th>Vehicle_Category</th>\n",
       "      <th>EV_Sales_Quantity</th>\n",
       "      <th>Date_parsed</th>\n",
       "    </tr>\n",
       "  </thead>\n",
       "  <tbody>\n",
       "    <tr>\n",
       "      <th>0</th>\n",
       "      <td>2014</td>\n",
       "      <td>Jan</td>\n",
       "      <td>Andhra Pradesh</td>\n",
       "      <td>Others</td>\n",
       "      <td>0</td>\n",
       "      <td>2014-01-01</td>\n",
       "    </tr>\n",
       "    <tr>\n",
       "      <th>4</th>\n",
       "      <td>2014</td>\n",
       "      <td>Jan</td>\n",
       "      <td>Andhra Pradesh</td>\n",
       "      <td>Bus</td>\n",
       "      <td>0</td>\n",
       "      <td>2014-01-01</td>\n",
       "    </tr>\n",
       "    <tr>\n",
       "      <th>13</th>\n",
       "      <td>2014</td>\n",
       "      <td>Jan</td>\n",
       "      <td>Andhra Pradesh</td>\n",
       "      <td>2-Wheelers</td>\n",
       "      <td>1</td>\n",
       "      <td>2014-01-01</td>\n",
       "    </tr>\n",
       "    <tr>\n",
       "      <th>14</th>\n",
       "      <td>2014</td>\n",
       "      <td>Jan</td>\n",
       "      <td>Andhra Pradesh</td>\n",
       "      <td>4-Wheelers</td>\n",
       "      <td>0</td>\n",
       "      <td>2014-01-01</td>\n",
       "    </tr>\n",
       "    <tr>\n",
       "      <th>19</th>\n",
       "      <td>2014</td>\n",
       "      <td>Jan</td>\n",
       "      <td>Andhra Pradesh</td>\n",
       "      <td>3-Wheelers</td>\n",
       "      <td>0</td>\n",
       "      <td>2014-01-01</td>\n",
       "    </tr>\n",
       "  </tbody>\n",
       "</table>\n",
       "</div>"
      ],
      "text/plain": [
       "    Year Month_Name           State Vehicle_Category  EV_Sales_Quantity  \\\n",
       "0   2014        Jan  Andhra Pradesh           Others                  0   \n",
       "4   2014        Jan  Andhra Pradesh              Bus                  0   \n",
       "13  2014        Jan  Andhra Pradesh       2-Wheelers                  1   \n",
       "14  2014        Jan  Andhra Pradesh       4-Wheelers                  0   \n",
       "19  2014        Jan  Andhra Pradesh       3-Wheelers                  0   \n",
       "\n",
       "   Date_parsed  \n",
       "0   2014-01-01  \n",
       "4   2014-01-01  \n",
       "13  2014-01-01  \n",
       "14  2014-01-01  \n",
       "19  2014-01-01  "
      ]
     },
     "execution_count": 35,
     "metadata": {},
     "output_type": "execute_result"
    }
   ],
   "source": [
    "df.head()"
   ]
  },
  {
   "cell_type": "raw",
   "id": "5fe7ae73-44db-4676-88f2-426392bd8531",
   "metadata": {},
   "source": [
    "✅ Checklist for Cleaning\n",
    "\n",
    " Date → datetime ✅\n",
    "\n",
    " Duplicates removed ✅\n",
    "\n",
    " State/Category names standardized ✅\n",
    "\n",
    " Year/Month recomputed from Date ✅\n",
    "\n",
    " Missing values handled (drop/fill) ✅\n",
    "\n",
    " Save cleaned dataset ✅"
   ]
  },
  {
   "cell_type": "code",
   "execution_count": 36,
   "id": "a2b7c572-a808-471b-9a14-be1b4482963b",
   "metadata": {},
   "outputs": [
    {
     "name": "stdout",
     "output_type": "stream",
     "text": [
      "Cleaned dataset saved: Ev_sales_cleaned.csv\n"
     ]
    }
   ],
   "source": [
    "df.to_csv(\"Ev_sales_cleaned.csv\", index = False)\n",
    "print(\"Cleaned dataset saved: Ev_sales_cleaned.csv\")"
   ]
  },
  {
   "cell_type": "code",
   "execution_count": 43,
   "id": "ba4a5d98-2e4e-484e-8059-769ed839dcb1",
   "metadata": {},
   "outputs": [
    {
     "name": "stdout",
     "output_type": "stream",
     "text": [
      "Total EV units: 3592576\n"
     ]
    }
   ],
   "source": [
    "# total sales\n",
    "total = df['EV_Sales_Quantity'].sum()\n",
    "print(\"Total EV units:\", total)\n"
   ]
  },
  {
   "cell_type": "code",
   "execution_count": 39,
   "id": "d4b71488-8e3c-43bc-8bcb-096901ff82fa",
   "metadata": {},
   "outputs": [
    {
     "data": {
      "image/png": "[encoded data removed]",
      "text/plain": [
       "<Figure size 800x400 with 1 Axes>"
      ]
     },
     "metadata": {},
     "output_type": "display_data"
    },
    {
     "name": "stdout",
     "output_type": "stream",
     "text": [
      "    Year  EV_Sales_Quantity\n",
      "0   2014               2364\n",
      "1   2015               7756\n",
      "2   2016              49827\n",
      "3   2017              87344\n",
      "4   2018             130078\n",
      "5   2019             166729\n",
      "6   2020             124587\n",
      "7   2021             331403\n",
      "8   2022            1024448\n",
      "9   2023            1524859\n",
      "10  2024             143181\n"
     ]
    }
   ],
   "source": [
    "# by year\n",
    "# yearly bar (one figure)\n",
    "import matplotlib.pyplot as plt\n",
    "plt.figure(figsize=(8,4))\n",
    "plt.bar(sales_by_year['Year'].astype(str), sales_by_year['EV_Sales_Quantity'])\n",
    "plt.title(\"Yearly EV Sales\")\n",
    "plt.xlabel(\"Year\")\n",
    "plt.ylabel(\"Sales\")\n",
    "plt.tight_layout()\n",
    "plt.savefig(\"yearly_sales.png\")\n",
    "plt.show()\n",
    "sales_by_year = df.groupby('Year', as_index=False)['EV_Sales_Quantity'].sum().sort_values('Year')\n",
    "print(sales_by_year)\n"
   ]
  },
  {
   "cell_type": "code",
   "execution_count": 40,
   "id": "3375afb5-375e-4a89-99fe-eeac64db233c",
   "metadata": {},
   "outputs": [
    {
     "name": "stdout",
     "output_type": "stream",
     "text": [
      "            State  EV_Sales_Quantity\n",
      "31  Uttar Pradesh             732064\n",
      "19    Maharashtra             401526\n",
      "15      Karnataka             315334\n",
      "7           Delhi             268529\n",
      "27      Rajasthan             228532\n",
      "4           Bihar             213396\n",
      "29     Tamil Nadu             206857\n",
      "10        Gujarat             176568\n",
      "3           Assam             151829\n",
      "16         Kerala             133192\n"
     ]
    },
    {
     "data": {
      "image/png": "[encoded data removed]",
      "text/plain": [
       "<Figure size 1000x500 with 1 Axes>"
      ]
     },
     "metadata": {},
     "output_type": "display_data"
    }
   ],
   "source": [
    "# by state (top 10)\n",
    "sales_by_state = df.groupby('State', as_index=False)['EV_Sales_Quantity'].sum().sort_values('EV_Sales_Quantity', ascending=False)\n",
    "print(sales_by_state.head(10))\n",
    "\n",
    "# top states\n",
    "plt.figure(figsize=(10,5))\n",
    "top10 = sales_by_state.head(10)\n",
    "plt.bar(top10['State'], top10['EV_Sales_Quantity'])\n",
    "plt.xticks(rotation=45, ha='right')\n",
    "plt.title(\"Top 10 States\")\n",
    "plt.tight_layout()\n",
    "plt.savefig(\"top10_states.png\")\n",
    "plt.show()"
   ]
  },
  {
   "cell_type": "code",
   "execution_count": 41,
   "id": "589ab649-cd1c-43a0-9562-7ba1a9e4930d",
   "metadata": {},
   "outputs": [
    {
     "data": {
      "image/png": "[encoded data removed]",
      "text/plain": [
       "<Figure size 1200x400 with 1 Axes>"
      ]
     },
     "metadata": {},
     "output_type": "display_data"
    }
   ],
   "source": [
    "# daily time series\n",
    "ts = df.groupby('Date_parsed', as_index=False)['EV_Sales_Quantity'].sum().sort_values('Date_parsed')\n",
    "# time series\n",
    "plt.figure(figsize=(12,4))\n",
    "plt.plot(ts['Date_parsed'], ts['EV_Sales_Quantity'])\n",
    "plt.title(\"Daily EV Sales\")\n",
    "plt.xlabel(\"Date\")\n",
    "plt.tight_layout()\n",
    "plt.savefig(\"daily_ts.png\")\n",
    "plt.show()\n",
    "\n"
   ]
  },
  {
   "cell_type": "code",
   "execution_count": null,
   "id": "4169240a-a28f-410b-9de1-348bb70ed40d",
   "metadata": {},
   "outputs": [],
   "source": [
    "# by vehicle category\n",
    "sales_by_cat = df.groupby('Vehicle_Category', as_index=False)['EV_Sales_Quantity'].sum().sort_values('EV_Sales_Quantity', ascending=False)\n",
    "print(sales_by_cat)"
   ]
  }
 ],
 "metadata": {
  "kernelspec": {
   "display_name": "Python 3 (ipykernel)",
   "language": "python",
   "name": "python3"
  },
  "language_info": {
   "codemirror_mode": {
    "name": "ipython",
    "version": 3
   },
   "file_extension": ".py",
   "mimetype": "text/x-python",
   "name": "python",
   "nbconvert_exporter": "python",
   "pygments_lexer": "ipython3",
   "version": "3.12.4"
  }
 },
 "nbformat": 4,
 "nbformat_minor": 5
}
